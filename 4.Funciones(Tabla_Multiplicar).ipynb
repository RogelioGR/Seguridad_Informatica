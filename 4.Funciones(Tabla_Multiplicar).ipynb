{
 "cells": [
  {
   "cell_type": "code",
   "execution_count": null,
   "id": "a1a0b946",
   "metadata": {},
   "outputs": [],
   "source": [
    "#tabla \n",
    "inicio rango \n",
    "final rango\n",
    "\n",
    "inicio tabla \n",
    "final de tabla "
   ]
  },
  {
   "cell_type": "code",
   "execution_count": 5,
   "id": "bbb90b9a",
   "metadata": {},
   "outputs": [
    {
     "name": "stdout",
     "output_type": "stream",
     "text": [
      "ingresa un numero de inicio1\n",
      "ingresa un numero de final3\n",
      "ingresa un numero de inicio tabla1\n",
      "ingresa un numero de final tabla2\n",
      "\n",
      "1 x 1 = 1\n",
      "1 x 2 = 2\n",
      "\n",
      "2 x 1 = 2\n",
      "2 x 2 = 4\n",
      "\n",
      "3 x 1 = 3\n",
      "3 x 2 = 6\n"
     ]
    }
   ],
   "source": [
    "inicio_rango = int(input (\"ingresa un numero de inicio =\"))\n",
    "final_rango  = int(input (\"ingresa un numero de final = \"))\n",
    "inicio_tabla = int(input (\"ingresa un numero de inicio tabla =\"))\n",
    "final_tabla = int(input (\"ingresa un numero de final tabla = \"))\n",
    "\n",
    "for i in range(inicio_rango,final_rango + 1):\n",
    "    print()\n",
    "    for b in range (inicio_tabla,final_tabla + 1,1):\n",
    "        resultado= i * b\n",
    "            \n",
    "        print(i,\"x\",b,\"=\",resultado)\n",
    "        "
   ]
  },
  {
   "cell_type": "code",
   "execution_count": null,
   "id": "5d2e1192",
   "metadata": {},
   "outputs": [],
   "source": []
  }
 ],
 "metadata": {
  "kernelspec": {
   "display_name": "Python 3 (ipykernel)",
   "language": "python",
   "name": "python3"
  },
  "language_info": {
   "codemirror_mode": {
    "name": "ipython",
    "version": 3
   },
   "file_extension": ".py",
   "mimetype": "text/x-python",
   "name": "python",
   "nbconvert_exporter": "python",
   "pygments_lexer": "ipython3",
   "version": "3.11.4"
  }
 },
 "nbformat": 4,
 "nbformat_minor": 5
}
