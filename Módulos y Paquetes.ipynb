{
 "cells": [
  {
   "cell_type": "code",
   "execution_count": 2,
   "id": "b6d11418",
   "metadata": {},
   "outputs": [],
   "source": [
    "from paquete import palíndromos,calciva,TablaMultiplicar"
   ]
  },
  {
   "cell_type": "code",
   "execution_count": null,
   "id": "1090011e",
   "metadata": {},
   "outputs": [
    {
     "name": "stdout",
     "output_type": "stream",
     "text": [
      "Detector de palíndromos\n",
      "Para escriba 'end'\n",
      "Ingrese la palabra: ana\n",
      "ana es un palíndromo.\n",
      "Ingrese la palabra: ana\n",
      "ana es un palíndromo.\n"
     ]
    }
   ],
   "source": [
    "palíndromos.palíndromos()"
   ]
  },
  {
   "cell_type": "code",
   "execution_count": 26,
   "id": "cdf240de",
   "metadata": {},
   "outputs": [
    {
     "name": "stdout",
     "output_type": "stream",
     "text": [
      "ingresa el monto para calcular el iva12\n",
      "el iva es:1.92 el total con iva es:\n"
     ]
    }
   ],
   "source": [
    "calciva.calciva()"
   ]
  },
  {
   "cell_type": "code",
   "execution_count": 28,
   "id": "89f16279",
   "metadata": {},
   "outputs": [
    {
     "name": "stdout",
     "output_type": "stream",
     "text": [
      "ingresa un numero de inicio1\n",
      "ingresa un numero de final1\n",
      "ingresa un numero de inicio tabla1\n",
      "ingresa un numero de final tabla1\n",
      "\n",
      "1 x 1 = 1\n"
     ]
    }
   ],
   "source": [
    "TablaMultiplicar.TablaMultiplicar()"
   ]
  },
  {
   "cell_type": "code",
   "execution_count": 22,
   "id": "c195030f",
   "metadata": {},
   "outputs": [],
   "source": []
  },
  {
   "cell_type": "code",
   "execution_count": null,
   "id": "e266ebed",
   "metadata": {},
   "outputs": [],
   "source": []
  }
 ],
 "metadata": {
  "kernelspec": {
   "display_name": "Python 3 (ipykernel)",
   "language": "python",
   "name": "python3"
  },
  "language_info": {
   "codemirror_mode": {
    "name": "ipython",
    "version": 3
   },
   "file_extension": ".py",
   "mimetype": "text/x-python",
   "name": "python",
   "nbconvert_exporter": "python",
   "pygments_lexer": "ipython3",
   "version": "3.11.4"
  }
 },
 "nbformat": 4,
 "nbformat_minor": 5
}
