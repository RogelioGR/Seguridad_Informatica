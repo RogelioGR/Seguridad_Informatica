{
 "cells": [
  {
   "cell_type": "code",
   "execution_count": 2,
   "id": "474fcc9a",
   "metadata": {},
   "outputs": [
    {
     "name": "stdout",
     "output_type": "stream",
     "text": [
      "hola mundo \n",
      "soy programador\n",
      "\n"
     ]
    }
   ],
   "source": [
    "archivo = open(\"ejemplo.txt\",\"r\")\n",
    "resultado = archivo.read()\n",
    "\n",
    "print(resultado)"
   ]
  },
  {
   "cell_type": "code",
   "execution_count": 4,
   "id": "9cfcf2b5",
   "metadata": {},
   "outputs": [],
   "source": [
    "archivo = open(\"ejemplo.txt\", \"w\")\n",
    "archivo.write(\"Hola mundo! y soy un mmmm\")\n",
    "archivo.close()"
   ]
  },
  {
   "cell_type": "code",
   "execution_count": 1,
   "id": "6773c0d8",
   "metadata": {},
   "outputs": [
    {
     "name": "stdout",
     "output_type": "stream",
     "text": [
      "Requirement already satisfied: pandas in c:\\users\\rogel\\anaconda3\\lib\\site-packages (1.5.3)\n",
      "Requirement already satisfied: python-dateutil>=2.8.1 in c:\\users\\rogel\\anaconda3\\lib\\site-packages (from pandas) (2.8.2)\n",
      "Requirement already satisfied: pytz>=2020.1 in c:\\users\\rogel\\anaconda3\\lib\\site-packages (from pandas) (2022.7)\n",
      "Requirement already satisfied: numpy>=1.21.0 in c:\\users\\rogel\\anaconda3\\lib\\site-packages (from pandas) (1.24.3)\n",
      "Requirement already satisfied: six>=1.5 in c:\\users\\rogel\\anaconda3\\lib\\site-packages (from python-dateutil>=2.8.1->pandas) (1.16.0)\n"
     ]
    }
   ],
   "source": [
    "!pip install pandas"
   ]
  },
  {
   "cell_type": "code",
   "execution_count": 11,
   "id": "30f3b41f",
   "metadata": {},
   "outputs": [],
   "source": [
    "import pandas \n"
   ]
  },
  {
   "cell_type": "code",
   "execution_count": 12,
   "id": "46a137a3",
   "metadata": {},
   "outputs": [
    {
     "data": {
      "text/html": [
       "<div>\n",
       "<style scoped>\n",
       "    .dataframe tbody tr th:only-of-type {\n",
       "        vertical-align: middle;\n",
       "    }\n",
       "\n",
       "    .dataframe tbody tr th {\n",
       "        vertical-align: top;\n",
       "    }\n",
       "\n",
       "    .dataframe thead th {\n",
       "        text-align: right;\n",
       "    }\n",
       "</style>\n",
       "<table border=\"1\" class=\"dataframe\">\n",
       "  <thead>\n",
       "    <tr style=\"text-align: right;\">\n",
       "      <th></th>\n",
       "      <th>Unnamed: 0</th>\n",
       "      <th>Unnamed: 1</th>\n",
       "      <th>Unnamed: 2</th>\n",
       "      <th>Unnamed: 3</th>\n",
       "      <th>Unnamed: 4</th>\n",
       "    </tr>\n",
       "  </thead>\n",
       "  <tbody>\n",
       "    <tr>\n",
       "      <th>0</th>\n",
       "      <td>NaN</td>\n",
       "      <td>NaN</td>\n",
       "      <td>NaN</td>\n",
       "      <td>NaN</td>\n",
       "      <td>NaN</td>\n",
       "    </tr>\n",
       "    <tr>\n",
       "      <th>1</th>\n",
       "      <td>NaN</td>\n",
       "      <td>NaN</td>\n",
       "      <td>NaN</td>\n",
       "      <td>NaN</td>\n",
       "      <td>NaN</td>\n",
       "    </tr>\n",
       "    <tr>\n",
       "      <th>2</th>\n",
       "      <td>Documento Excel en python</td>\n",
       "      <td>NaN</td>\n",
       "      <td>NaN</td>\n",
       "      <td>NaN</td>\n",
       "      <td>NaN</td>\n",
       "    </tr>\n",
       "    <tr>\n",
       "      <th>3</th>\n",
       "      <td>NaN</td>\n",
       "      <td>NaN</td>\n",
       "      <td>NaN</td>\n",
       "      <td>NaN</td>\n",
       "      <td>NaN</td>\n",
       "    </tr>\n",
       "    <tr>\n",
       "      <th>4</th>\n",
       "      <td>Zonas arqueologicas</td>\n",
       "      <td>NaN</td>\n",
       "      <td>NaN</td>\n",
       "      <td>NaN</td>\n",
       "      <td>NaN</td>\n",
       "    </tr>\n",
       "    <tr>\n",
       "      <th>5</th>\n",
       "      <td>NaN</td>\n",
       "      <td>NaN</td>\n",
       "      <td>estados</td>\n",
       "      <td>nombre</td>\n",
       "      <td>Ubicación</td>\n",
       "    </tr>\n",
       "    <tr>\n",
       "      <th>6</th>\n",
       "      <td>NaN</td>\n",
       "      <td>NaN</td>\n",
       "      <td>Cozumel, Quintana Roo</td>\n",
       "      <td>Caracol-Punta Sur</td>\n",
       "      <td>Se ubica en la costa sur de la isla, a 30 km d...</td>\n",
       "    </tr>\n",
       "    <tr>\n",
       "      <th>7</th>\n",
       "      <td>NaN</td>\n",
       "      <td>NaN</td>\n",
       "      <td>Cozumel, Quintana Roo</td>\n",
       "      <td>San Gervasio</td>\n",
       "      <td>Se localiza siete kilómetros al este del actua...</td>\n",
       "    </tr>\n",
       "    <tr>\n",
       "      <th>8</th>\n",
       "      <td>NaN</td>\n",
       "      <td>NaN</td>\n",
       "      <td>Cozumel, Quintana Roo</td>\n",
       "      <td>Chakanbakan</td>\n",
       "      <td>Se ubica a 90 kilómetros de Chetumal, capital ...</td>\n",
       "    </tr>\n",
       "  </tbody>\n",
       "</table>\n",
       "</div>"
      ],
      "text/plain": [
       "                  Unnamed: 0  Unnamed: 1             Unnamed: 2  \\\n",
       "0                        NaN         NaN                    NaN   \n",
       "1                        NaN         NaN                    NaN   \n",
       "2  Documento Excel en python         NaN                    NaN   \n",
       "3                        NaN         NaN                    NaN   \n",
       "4        Zonas arqueologicas         NaN                    NaN   \n",
       "5                        NaN         NaN                estados   \n",
       "6                        NaN         NaN  Cozumel, Quintana Roo   \n",
       "7                        NaN         NaN  Cozumel, Quintana Roo   \n",
       "8                        NaN         NaN  Cozumel, Quintana Roo   \n",
       "\n",
       "          Unnamed: 3                                         Unnamed: 4  \n",
       "0                NaN                                                NaN  \n",
       "1                NaN                                                NaN  \n",
       "2                NaN                                                NaN  \n",
       "3                NaN                                                NaN  \n",
       "4                NaN                                                NaN  \n",
       "5             nombre                                          Ubicación  \n",
       "6  Caracol-Punta Sur  Se ubica en la costa sur de la isla, a 30 km d...  \n",
       "7       San Gervasio  Se localiza siete kilómetros al este del actua...  \n",
       "8        Chakanbakan  Se ubica a 90 kilómetros de Chetumal, capital ...  "
      ]
     },
     "execution_count": 12,
     "metadata": {},
     "output_type": "execute_result"
    }
   ],
   "source": [
    "pandas.read_excel(\"DocumentoExcelPython.xlsx\")"
   ]
  },
  {
   "cell_type": "code",
   "execution_count": 26,
   "id": "e783db93",
   "metadata": {},
   "outputs": [
    {
     "name": "stdout",
     "output_type": "stream",
     "text": [
      "Collecting PyPDF2\n",
      "  Using cached pypdf2-3.0.1-py3-none-any.whl (232 kB)\n",
      "Installing collected packages: PyPDF2\n",
      "Successfully installed PyPDF2-3.0.1\n"
     ]
    }
   ],
   "source": [
    "!pip install PyPDF2"
   ]
  },
  {
   "cell_type": "code",
   "execution_count": 38,
   "id": "16321cfd",
   "metadata": {},
   "outputs": [
    {
     "name": "stdout",
     "output_type": "stream",
     "text": [
      "Documento en PDF prue ba en python  \n",
      " \n",
      "Desarrollo y análisis del MOMENTO  \n",
      "En el contexto actual, la creciente necesidad de gestionar eficazmente el tiempo y la \n",
      "colaboración en la programación de eventos ha impulsado la demanda de aplicaciones de \n",
      "agenda cooperativas. Esta tendencia se debe en parte al auge del trabajo remoto y la movilidad \n",
      "de los usuarios. A pesar de la existencia de soluciones de competencia en e l mercado de \n",
      "aplicaciones de agenda, las aplicaciones cooperativas representan una subcategoría emergente \n",
      "con un potencial significativo para el crecimiento y la satisfacción de las necesidades de los \n",
      "usuarios. El usuario moderno busca, ante todo, aplicaci ones de agenda que ofrezcan facilidad de \n",
      "uso, seguridad y la capacidad de colaborar con otros en la programación de eventos. La \n",
      "privacidad y la protección de datos son preocupaciones primordiales para los usuarios, lo que \n",
      "resalta la importancia de una sóli da gestión de datos y seguridad en el desarrollo de estas \n",
      "aplicaciones. El éxito de un proyecto de esta naturaleza también depende de factores \n",
      "económicos, como la inversión disponible para su desarrollo y la disposición de los usuarios a \n",
      "pagar por la aplic ación. Asimismo, las regulaciones y el cumplimiento de la privacidad de datos, \n",
      "como el RGPD, desempeñan un papel crucial en la estrategia y el desarrollo de la aplicación. En \n",
      "términos tecnológicos, la integración con asistentes virtuales y la adopción de e stándares de \n",
      "seguridad son consideraciones esenciales. Además, el ciclo de vida del producto debe ser \n",
      "considerado, ya que el mercado de aplicaciones es dinámico y evoluciona con el tiempo.  \n"
     ]
    }
   ],
   "source": [
    "from PyPDF2  import PdfReader\n",
    "\n",
    "reader = PdfReader(\"DocumentoPDFpython.pdf\")\n",
    "print(page.extract_text())\n"
   ]
  },
  {
   "cell_type": "code",
   "execution_count": 28,
   "id": "29bada39",
   "metadata": {},
   "outputs": [
    {
     "name": "stdout",
     "output_type": "stream",
     "text": [
      "Collecting python-docx\n",
      "  Obtaining dependency information for python-docx from https://files.pythonhosted.org/packages/5f/d8/6948f7ac00edf74bfa52b3c5e3073df20284bec1db466d13e668fe991707/python_docx-1.1.0-py3-none-any.whl.metadata\n",
      "  Downloading python_docx-1.1.0-py3-none-any.whl.metadata (2.0 kB)\n",
      "Requirement already satisfied: lxml>=3.1.0 in c:\\users\\rogel\\anaconda3\\lib\\site-packages (from python-docx) (4.9.2)\n",
      "Requirement already satisfied: typing-extensions in c:\\users\\rogel\\anaconda3\\lib\\site-packages (from python-docx) (4.7.1)\n",
      "Downloading python_docx-1.1.0-py3-none-any.whl (239 kB)\n",
      "   ---------------------------------------- 0.0/239.6 kB ? eta -:--:--\n",
      "   ----- ---------------------------------- 30.7/239.6 kB 1.4 MB/s eta 0:00:01\n",
      "   ------------------ --------------------- 112.6/239.6 kB 1.3 MB/s eta 0:00:01\n",
      "   ---------------------------------------  235.5/239.6 kB 1.8 MB/s eta 0:00:01\n",
      "   ---------------------------------------- 239.6/239.6 kB 1.5 MB/s eta 0:00:00\n",
      "Installing collected packages: python-docx\n",
      "Successfully installed python-docx-1.1.0\n"
     ]
    }
   ],
   "source": [
    "!pip install python-docx"
   ]
  },
  {
   "cell_type": "code",
   "execution_count": 37,
   "id": "784ffa96",
   "metadata": {},
   "outputs": [
    {
     "name": "stdout",
     "output_type": "stream",
     "text": [
      "Documento en Word prueba en Python \n",
      "Objetivos \n",
      "Fase 1: Definición y Análisis · \n",
      "Establecer con precisión en 1 semana los objetivos, el alcance, los requisitos y los entregables del proyecto, en colaboración con todas las partes interesadas clave, para garantizar una comprensión común y un marco sólido para la planificación y ejecución del proyecto. · Definir claramente los requisitos funcionales y no funcionales del proyecto de UX en un plazo de 1 semanas para identificar las funciones clave que deben incorporarse en el diseño de la aplicación, así como establecer los estándares de rendimiento y usabilidad que se deben cumplir para lograr una experiencia de usuario efectiva. · Realizar una investigación de mercado exhaustiva durante un período de 1 semanas para identificar tendencias y expectativas de al menos 50 usuarios en relación con las aplicaciones de agenda cooperativa a través de encuestas en línea y grupos de enfoque que proporcionarán información crítica para la fase de diseño de la experiencia de usuario. · Realizar la creación de perfiles de usuario detallados que proporcionen una representación precisa de las características, necesidades y objetivos de los usuarios clave, en un plazo de 1 semana para informar el diseño de la experiencia de usuario (UX) y garantizar que el producto final esté alineado con las expectativas y requerimientos de los usuarios. \n",
      "Fase 2: Idear · \n",
      "Idear y desarrollar al menos tres conceptos de diseño creativos y novedosos para la interfaz de usuario (UI) de la aplicación en un plazo de 1 semanas basados en la investigación de usuario y los requisitos previamente definidos para mejorar la usabilidad, la estética y la experiencia general del usuario. · Organizar y llevar a cabo una sesión de brainstorming creativa en un plazo de 1 semanas para generar ideas innovadoras y soluciones creativas sobre los desafíos identificados en el proyecto de UX, con el objetivo de enriquecer el proceso de diseño y maximizar la satisfacción del usuario\n"
     ]
    }
   ],
   "source": [
    "import docx \n",
    "\n",
    "doc = docx.Document(\"DocumentoWordPython.docx\")\n",
    "\n",
    "for paragraph in doc.paragraphs:\n",
    "    print(paragraph.text)"
   ]
  },
  {
   "cell_type": "code",
   "execution_count": null,
   "id": "34e38bb5",
   "metadata": {},
   "outputs": [],
   "source": []
  }
 ],
 "metadata": {
  "kernelspec": {
   "display_name": "Python 3 (ipykernel)",
   "language": "python",
   "name": "python3"
  },
  "language_info": {
   "codemirror_mode": {
    "name": "ipython",
    "version": 3
   },
   "file_extension": ".py",
   "mimetype": "text/x-python",
   "name": "python",
   "nbconvert_exporter": "python",
   "pygments_lexer": "ipython3",
   "version": "3.11.4"
  }
 },
 "nbformat": 4,
 "nbformat_minor": 5
}
