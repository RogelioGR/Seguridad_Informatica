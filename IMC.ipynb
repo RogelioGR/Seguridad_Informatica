{
 "cells": [
  {
   "cell_type": "code",
   "execution_count": 30,
   "id": "fa070daa",
   "metadata": {},
   "outputs": [
    {
     "name": "stdout",
     "output_type": "stream",
     "text": [
      "rogelio tienes sobrepeso: IMC 27.8\n"
     ]
    }
   ],
   "source": [
    "persona = {\n",
    "    \"nombre\": \"rogelio\",\n",
    "    \"altura\": 1.75,\n",
    "    \"peso\": 85\n",
    "}\n",
    "\n",
    "def imc(peso,altura,nombre):\n",
    "    imc_p = peso/altura**2\n",
    "    \n",
    "    if imc_p < 18.5:\n",
    "        print(f\"{nombre} estas bajo de peso: IMC {round(imc_p,1)}\")\n",
    "    elif imc_p > 18.5 and imc_p <= 24.9:\n",
    "        print(f\"{nombre} tienes un peso normal: IMC {round(imc_p,1)}\")\n",
    "    elif imc_p > 25 and imc_p <= 29.9:\n",
    "        print(f\"{nombre} tienes sobrepeso: IMC {round(imc_p,1)}\")\n",
    "    else:\n",
    "        print(f\"{nombre} estas en obesidad: IMC {round(imc_p,1)}\")\n",
    "\n",
    "    \n",
    "    \n",
    "peso = persona[\"peso\"]\n",
    "altura = persona[\"altura\"]\n",
    "nombre= persona[\"nombre\"]\n",
    "\n",
    "imc(nombre,peso,altura)"
   ]
  },
  {
   "cell_type": "code",
   "execution_count": null,
   "id": "d5ba3a19",
   "metadata": {},
   "outputs": [],
   "source": []
  }
 ],
 "metadata": {
  "kernelspec": {
   "display_name": "Python 3 (ipykernel)",
   "language": "python",
   "name": "python3"
  },
  "language_info": {
   "codemirror_mode": {
    "name": "ipython",
    "version": 3
   },
   "file_extension": ".py",
   "mimetype": "text/x-python",
   "name": "python",
   "nbconvert_exporter": "python",
   "pygments_lexer": "ipython3",
   "version": "3.11.4"
  }
 },
 "nbformat": 4,
 "nbformat_minor": 5
}
